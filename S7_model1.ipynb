{
 "cells": [
  {
   "cell_type": "markdown",
   "id": "0d2c4cab",
   "metadata": {},
   "source": [
    "## Importing Libraries"
   ]
  },
  {
   "cell_type": "code",
   "execution_count": 11,
   "id": "a154fc17",
   "metadata": {},
   "outputs": [],
   "source": [
    "import torch\n",
    "import torch.optim as optim\n",
    "from torchvision import datasets, transforms"
   ]
  },
  {
   "cell_type": "code",
   "execution_count": 12,
   "id": "ae68fcc3",
   "metadata": {},
   "outputs": [],
   "source": [
    "from utils import *\n",
    "from model_1 import *"
   ]
  },
  {
   "cell_type": "markdown",
   "id": "f4e03133",
   "metadata": {},
   "source": [
    "## Transformations applied on train and test data"
   ]
  },
  {
   "cell_type": "code",
   "execution_count": 3,
   "id": "e6ea516f",
   "metadata": {},
   "outputs": [],
   "source": [
    "# Train Phase transformations\n",
    "train_transforms = transforms.Compose([transforms.ToTensor(),\n",
    "                                       transforms.Normalize((0.1307,), (0.3081,)) # The mean and std have to be sequences (e.g., tuples), therefore you should add a comma after the values.\n",
    "                                       ])\n",
    "\n",
    "# Test Phase transformations\n",
    "test_transforms = transforms.Compose([transforms.ToTensor(),\n",
    "                                      transforms.Normalize((0.1307,), (0.3081,))\n",
    "                                       ])"
   ]
  },
  {
   "cell_type": "markdown",
   "id": "697d414d",
   "metadata": {},
   "source": [
    "## Downloading data"
   ]
  },
  {
   "cell_type": "code",
   "execution_count": 4,
   "id": "62113768",
   "metadata": {},
   "outputs": [],
   "source": [
    "train_data = datasets.MNIST('../data', train=True, download=True, transform=train_transforms)\n",
    "test_data = datasets.MNIST('../data', train=False, download=True, transform=test_transforms)"
   ]
  },
  {
   "cell_type": "code",
   "execution_count": 5,
   "id": "5acd70f7",
   "metadata": {},
   "outputs": [],
   "source": [
    "batch_size = 128\n",
    "\n",
    "kwargs = {'batch_size': batch_size, 'shuffle': True, 'num_workers': 2, 'pin_memory': True}\n",
    "\n",
    "train_loader = torch.utils.data.DataLoader(train_data, **kwargs)\n",
    "test_loader = torch.utils.data.DataLoader(test_data, **kwargs)"
   ]
  },
  {
   "cell_type": "markdown",
   "id": "6e8a49d4",
   "metadata": {},
   "source": [
    "## Sample image"
   ]
  },
  {
   "cell_type": "code",
   "execution_count": 6,
   "id": "fd495cb4",
   "metadata": {},
   "outputs": [
    {
     "data": {
      "image/png": "[encoded data removed]",
      "text/plain": [
       "<Figure size 640x480 with 12 Axes>"
      ]
     },
     "metadata": {},
     "output_type": "display_data"
    }
   ],
   "source": [
    "\n",
    "batch_data, batch_label = next(iter(train_loader)) \n",
    "\n",
    "fig = plt.figure()\n",
    "\n",
    "for i in range(12):\n",
    "  plt.subplot(3,4,i+1)\n",
    "  plt.tight_layout()\n",
    "  plt.imshow(batch_data[i].squeeze(0), cmap='gray')\n",
    "  plt.title(batch_label[i].item())\n",
    "  plt.xticks([])\n",
    "  plt.yticks([])"
   ]
  },
  {
   "cell_type": "markdown",
   "id": "8d55a501",
   "metadata": {},
   "source": [
    "## Neural net summary"
   ]
  },
  {
   "cell_type": "code",
   "execution_count": 7,
   "id": "d3f9f494",
   "metadata": {},
   "outputs": [
    {
     "name": "stdout",
     "output_type": "stream",
     "text": [
      "----------------------------------------------------------------\n",
      "        Layer (type)               Output Shape         Param #\n",
      "================================================================\n",
      "            Conv2d-1           [-1, 16, 26, 26]             160\n",
      "            Conv2d-2           [-1, 32, 24, 24]           4,640\n",
      "         MaxPool2d-3           [-1, 32, 12, 12]               0\n",
      "            Conv2d-4            [-1, 4, 12, 12]             132\n",
      "            Conv2d-5           [-1, 16, 10, 10]             592\n",
      "         MaxPool2d-6             [-1, 16, 5, 5]               0\n",
      "            Conv2d-7             [-1, 10, 5, 5]             170\n",
      "            Conv2d-8             [-1, 10, 1, 1]           2,510\n",
      "================================================================\n",
      "Total params: 8,204\n",
      "Trainable params: 8,204\n",
      "Non-trainable params: 0\n",
      "----------------------------------------------------------------\n",
      "Input size (MB): 0.00\n",
      "Forward/backward pass size (MB): 0.28\n",
      "Params size (MB): 0.03\n",
      "Estimated Total Size (MB): 0.31\n",
      "----------------------------------------------------------------\n"
     ]
    },
    {
     "data": {
      "text/plain": [
       "<function torchsummary.torchsummary.summary(model, input_size, batch_size=-1, device='cuda')>"
      ]
     },
     "execution_count": 7,
     "metadata": {},
     "output_type": "execute_result"
    }
   ],
   "source": [
    "get_summary(Net)"
   ]
  },
  {
   "cell_type": "markdown",
   "id": "2ef66e81",
   "metadata": {},
   "source": [
    "## Training the data and calculating validation results"
   ]
  },
  {
   "cell_type": "code",
   "execution_count": 8,
   "id": "ce0236a6",
   "metadata": {},
   "outputs": [],
   "source": [
    "train_losses = []\n",
    "test_losses = []\n",
    "train_acc = []\n",
    "test_acc = []\n",
    "\n",
    "test_incorrect_pred = {'images': [], 'ground_truths': [], 'predicted_vals': []}"
   ]
  },
  {
   "cell_type": "code",
   "execution_count": 14,
   "id": "83b44101",
   "metadata": {
    "scrolled": false
   },
   "outputs": [
    {
     "name": "stdout",
     "output_type": "stream",
     "text": [
      "Epoch 1\n"
     ]
    },
    {
     "name": "stderr",
     "output_type": "stream",
     "text": [
      "Train: Loss=1.4854 Batch_id=468 Accuracy=36.15: 100%|█| 469/469 [00:42<00:00, 11"
     ]
    },
    {
     "name": "stdout",
     "output_type": "stream",
     "text": [
      "36.145\n"
     ]
    },
    {
     "name": "stderr",
     "output_type": "stream",
     "text": [
      "\n"
     ]
    },
    {
     "name": "stdout",
     "output_type": "stream",
     "text": [
      "Test set: Average loss: 1.4259, Accuracy: 4975/10000 (49.75%)\n",
      "\n",
      "Epoch 2\n"
     ]
    },
    {
     "name": "stderr",
     "output_type": "stream",
     "text": [
      "Train: Loss=1.0741 Batch_id=468 Accuracy=50.48: 100%|█| 469/469 [00:40<00:00, 11"
     ]
    },
    {
     "name": "stdout",
     "output_type": "stream",
     "text": [
      "50.483333333333334\n"
     ]
    },
    {
     "name": "stderr",
     "output_type": "stream",
     "text": [
      "\n"
     ]
    },
    {
     "name": "stdout",
     "output_type": "stream",
     "text": [
      "Test set: Average loss: 1.1893, Accuracy: 5034/10000 (50.34%)\n",
      "\n",
      "Epoch 3\n"
     ]
    },
    {
     "name": "stderr",
     "output_type": "stream",
     "text": [
      "Train: Loss=1.1036 Batch_id=468 Accuracy=50.76: 100%|█| 469/469 [00:43<00:00, 10"
     ]
    },
    {
     "name": "stdout",
     "output_type": "stream",
     "text": [
      "50.755\n"
     ]
    },
    {
     "name": "stderr",
     "output_type": "stream",
     "text": [
      "\n"
     ]
    },
    {
     "name": "stdout",
     "output_type": "stream",
     "text": [
      "Test set: Average loss: 1.1825, Accuracy: 5017/10000 (50.17%)\n",
      "\n",
      "Epoch 4\n"
     ]
    },
    {
     "name": "stderr",
     "output_type": "stream",
     "text": [
      "Train: Loss=1.0987 Batch_id=468 Accuracy=50.76: 100%|█| 469/469 [00:51<00:00,  9"
     ]
    },
    {
     "name": "stdout",
     "output_type": "stream",
     "text": [
      "50.76\n"
     ]
    },
    {
     "name": "stderr",
     "output_type": "stream",
     "text": [
      "\n"
     ]
    },
    {
     "name": "stdout",
     "output_type": "stream",
     "text": [
      "Test set: Average loss: 1.1936, Accuracy: 5022/10000 (50.22%)\n",
      "\n",
      "Epoch 5\n"
     ]
    },
    {
     "name": "stderr",
     "output_type": "stream",
     "text": [
      "Train: Loss=0.9700 Batch_id=468 Accuracy=50.83: 100%|█| 469/469 [00:55<00:00,  8"
     ]
    },
    {
     "name": "stdout",
     "output_type": "stream",
     "text": [
      "50.83\n"
     ]
    },
    {
     "name": "stderr",
     "output_type": "stream",
     "text": [
      "\n"
     ]
    },
    {
     "name": "stdout",
     "output_type": "stream",
     "text": [
      "Test set: Average loss: 1.1784, Accuracy: 5044/10000 (50.44%)\n",
      "\n",
      "Epoch 6\n"
     ]
    },
    {
     "name": "stderr",
     "output_type": "stream",
     "text": [
      "Train: Loss=1.3100 Batch_id=468 Accuracy=50.88: 100%|█| 469/469 [00:56<00:00,  8"
     ]
    },
    {
     "name": "stdout",
     "output_type": "stream",
     "text": [
      "50.88333333333333\n"
     ]
    },
    {
     "name": "stderr",
     "output_type": "stream",
     "text": [
      "\n"
     ]
    },
    {
     "name": "stdout",
     "output_type": "stream",
     "text": [
      "Test set: Average loss: 1.1705, Accuracy: 5054/10000 (50.54%)\n",
      "\n",
      "Epoch 7\n"
     ]
    },
    {
     "name": "stderr",
     "output_type": "stream",
     "text": [
      "Train: Loss=1.0139 Batch_id=468 Accuracy=51.01: 100%|█| 469/469 [00:56<00:00,  8"
     ]
    },
    {
     "name": "stdout",
     "output_type": "stream",
     "text": [
      "51.01\n"
     ]
    },
    {
     "name": "stderr",
     "output_type": "stream",
     "text": [
      "\n"
     ]
    },
    {
     "name": "stdout",
     "output_type": "stream",
     "text": [
      "Test set: Average loss: 1.1609, Accuracy: 5068/10000 (50.68%)\n",
      "\n",
      "Epoch 8\n"
     ]
    },
    {
     "name": "stderr",
     "output_type": "stream",
     "text": [
      "Train: Loss=1.1981 Batch_id=468 Accuracy=50.96: 100%|█| 469/469 [01:02<00:00,  7"
     ]
    },
    {
     "name": "stdout",
     "output_type": "stream",
     "text": [
      "50.958333333333336\n"
     ]
    },
    {
     "name": "stderr",
     "output_type": "stream",
     "text": [
      "\n"
     ]
    },
    {
     "name": "stdout",
     "output_type": "stream",
     "text": [
      "Test set: Average loss: 1.1623, Accuracy: 5064/10000 (50.64%)\n",
      "\n",
      "Epoch 9\n"
     ]
    },
    {
     "name": "stderr",
     "output_type": "stream",
     "text": [
      "Train: Loss=1.2067 Batch_id=468 Accuracy=50.98: 100%|█| 469/469 [01:08<00:00,  6"
     ]
    },
    {
     "name": "stdout",
     "output_type": "stream",
     "text": [
      "50.97666666666667\n"
     ]
    },
    {
     "name": "stderr",
     "output_type": "stream",
     "text": [
      "\n"
     ]
    },
    {
     "name": "stdout",
     "output_type": "stream",
     "text": [
      "Test set: Average loss: 1.1673, Accuracy: 5046/10000 (50.46%)\n",
      "\n",
      "Epoch 10\n"
     ]
    },
    {
     "name": "stderr",
     "output_type": "stream",
     "text": [
      "Train: Loss=1.2026 Batch_id=468 Accuracy=50.96: 100%|█| 469/469 [01:08<00:00,  6"
     ]
    },
    {
     "name": "stdout",
     "output_type": "stream",
     "text": [
      "50.961666666666666\n"
     ]
    },
    {
     "name": "stderr",
     "output_type": "stream",
     "text": [
      "\n"
     ]
    },
    {
     "name": "stdout",
     "output_type": "stream",
     "text": [
      "Test set: Average loss: 1.1682, Accuracy: 5061/10000 (50.61%)\n",
      "\n",
      "Epoch 11\n"
     ]
    },
    {
     "name": "stderr",
     "output_type": "stream",
     "text": [
      "Train: Loss=1.0416 Batch_id=468 Accuracy=50.98: 100%|█| 469/469 [01:13<00:00,  6"
     ]
    },
    {
     "name": "stdout",
     "output_type": "stream",
     "text": [
      "50.98166666666667\n"
     ]
    },
    {
     "name": "stderr",
     "output_type": "stream",
     "text": [
      "\n"
     ]
    },
    {
     "name": "stdout",
     "output_type": "stream",
     "text": [
      "Test set: Average loss: 1.1607, Accuracy: 5063/10000 (50.63%)\n",
      "\n",
      "Epoch 12\n"
     ]
    },
    {
     "name": "stderr",
     "output_type": "stream",
     "text": [
      "Train: Loss=1.2673 Batch_id=468 Accuracy=51.01: 100%|█| 469/469 [01:18<00:00,  6"
     ]
    },
    {
     "name": "stdout",
     "output_type": "stream",
     "text": [
      "51.01166666666666\n"
     ]
    },
    {
     "name": "stderr",
     "output_type": "stream",
     "text": [
      "\n"
     ]
    },
    {
     "name": "stdout",
     "output_type": "stream",
     "text": [
      "Test set: Average loss: 1.1639, Accuracy: 5054/10000 (50.54%)\n",
      "\n",
      "Epoch 13\n"
     ]
    },
    {
     "name": "stderr",
     "output_type": "stream",
     "text": [
      "Train: Loss=1.1123 Batch_id=468 Accuracy=51.00: 100%|█| 469/469 [01:27<00:00,  5"
     ]
    },
    {
     "name": "stdout",
     "output_type": "stream",
     "text": [
      "50.998333333333335\n"
     ]
    },
    {
     "name": "stderr",
     "output_type": "stream",
     "text": [
      "\n"
     ]
    },
    {
     "name": "stdout",
     "output_type": "stream",
     "text": [
      "Test set: Average loss: 1.1678, Accuracy: 5060/10000 (50.60%)\n",
      "\n",
      "Epoch 14\n"
     ]
    },
    {
     "name": "stderr",
     "output_type": "stream",
     "text": [
      "Train: Loss=1.0641 Batch_id=468 Accuracy=54.15: 100%|█| 469/469 [01:31<00:00,  5"
     ]
    },
    {
     "name": "stdout",
     "output_type": "stream",
     "text": [
      "54.153333333333336\n"
     ]
    },
    {
     "name": "stderr",
     "output_type": "stream",
     "text": [
      "\n"
     ]
    },
    {
     "name": "stdout",
     "output_type": "stream",
     "text": [
      "Test set: Average loss: 0.9879, Accuracy: 5920/10000 (59.20%)\n",
      "\n",
      "Epoch 15\n"
     ]
    },
    {
     "name": "stderr",
     "output_type": "stream",
     "text": [
      "Train: Loss=0.9031 Batch_id=468 Accuracy=59.80: 100%|█| 469/469 [01:06<00:00,  7"
     ]
    },
    {
     "name": "stdout",
     "output_type": "stream",
     "text": [
      "59.80166666666667\n"
     ]
    },
    {
     "name": "stderr",
     "output_type": "stream",
     "text": [
      "\n"
     ]
    },
    {
     "name": "stdout",
     "output_type": "stream",
     "text": [
      "Test set: Average loss: 0.9710, Accuracy: 5921/10000 (59.21%)\n",
      "\n",
      "Epoch 16\n"
     ]
    },
    {
     "name": "stderr",
     "output_type": "stream",
     "text": [
      "Train: Loss=0.8642 Batch_id=468 Accuracy=59.90: 100%|█| 469/469 [01:02<00:00,  7"
     ]
    },
    {
     "name": "stdout",
     "output_type": "stream",
     "text": [
      "59.89666666666667\n"
     ]
    },
    {
     "name": "stderr",
     "output_type": "stream",
     "text": [
      "\n"
     ]
    },
    {
     "name": "stdout",
     "output_type": "stream",
     "text": [
      "Test set: Average loss: 1.0236, Accuracy: 5800/10000 (58.00%)\n",
      "\n",
      "Epoch 17\n"
     ]
    },
    {
     "name": "stderr",
     "output_type": "stream",
     "text": [
      "Train: Loss=0.9138 Batch_id=468 Accuracy=59.89: 100%|█| 469/469 [00:52<00:00,  8"
     ]
    },
    {
     "name": "stdout",
     "output_type": "stream",
     "text": [
      "59.89\n"
     ]
    },
    {
     "name": "stderr",
     "output_type": "stream",
     "text": [
      "\n"
     ]
    },
    {
     "name": "stdout",
     "output_type": "stream",
     "text": [
      "Test set: Average loss: 0.9661, Accuracy: 5924/10000 (59.24%)\n",
      "\n",
      "Epoch 18\n"
     ]
    },
    {
     "name": "stderr",
     "output_type": "stream",
     "text": [
      "Train: Loss=0.9817 Batch_id=468 Accuracy=59.92: 100%|█| 469/469 [00:55<00:00,  8"
     ]
    },
    {
     "name": "stdout",
     "output_type": "stream",
     "text": [
      "59.925\n"
     ]
    },
    {
     "name": "stderr",
     "output_type": "stream",
     "text": [
      "\n"
     ]
    },
    {
     "name": "stdout",
     "output_type": "stream",
     "text": [
      "Test set: Average loss: 0.9588, Accuracy: 5936/10000 (59.36%)\n",
      "\n",
      "Epoch 19\n"
     ]
    },
    {
     "name": "stderr",
     "output_type": "stream",
     "text": [
      "Train: Loss=0.9381 Batch_id=468 Accuracy=59.95: 100%|█| 469/469 [00:53<00:00,  8"
     ]
    },
    {
     "name": "stdout",
     "output_type": "stream",
     "text": [
      "59.94833333333333\n"
     ]
    },
    {
     "name": "stderr",
     "output_type": "stream",
     "text": [
      "\n"
     ]
    },
    {
     "name": "stdout",
     "output_type": "stream",
     "text": [
      "Test set: Average loss: 0.9589, Accuracy: 5944/10000 (59.44%)\n",
      "\n",
      "Epoch 20\n"
     ]
    },
    {
     "name": "stderr",
     "output_type": "stream",
     "text": [
      "Train: Loss=0.8295 Batch_id=468 Accuracy=60.00: 100%|█| 469/469 [00:55<00:00,  8"
     ]
    },
    {
     "name": "stdout",
     "output_type": "stream",
     "text": [
      "60.00333333333333\n"
     ]
    },
    {
     "name": "stderr",
     "output_type": "stream",
     "text": [
      "\n"
     ]
    },
    {
     "name": "stdout",
     "output_type": "stream",
     "text": [
      "Test set: Average loss: 0.9655, Accuracy: 5937/10000 (59.37%)\n",
      "\n"
     ]
    }
   ],
   "source": [
    "model = Net().to(device)\n",
    "optimizer = optim.SGD(model.parameters(), lr=0.1, momentum=0.9)\n",
    "\n",
    "train_criterion = nn.CrossEntropyLoss() #Loss function\n",
    "test_criterion = nn.CrossEntropyLoss() #Loss function\n",
    "num_epochs = 20\n",
    "\n",
    "for epoch in range(1, num_epochs+1):\n",
    "    print(f'Epoch {epoch}')\n",
    "    train_acc_val, train_loss = train(model, device, train_loader, optimizer, train_criterion)\n",
    "    print(train_acc_val)\n",
    "    test_acc_val, test_loss = test(model, device, test_loader, test_criterion)\n",
    "    \n",
    "    train_acc.append(train_acc_val) #Storing training loss for each epoch\n",
    "    train_losses.append(train_loss)\n",
    "    test_acc.append(test_acc_val) #Storing testing loss for each epoch\n",
    "    test_losses.append(test_loss)\n",
    " "
   ]
  },
  {
   "cell_type": "markdown",
   "id": "d7b5f6da",
   "metadata": {},
   "source": [
    "## Plots"
   ]
  },
  {
   "cell_type": "code",
   "execution_count": 15,
   "id": "1daf3226",
   "metadata": {},
   "outputs": [
    {
     "data": {
      "image/png": "[encoded data removed]",
      "text/plain": [
       "<Figure size 1500x1000 with 4 Axes>"
      ]
     },
     "metadata": {},
     "output_type": "display_data"
    }
   ],
   "source": [
    "plot_loss(train_losses, train_acc, test_losses, test_acc)"
   ]
  },
  {
   "cell_type": "markdown",
   "id": "1f34cef3",
   "metadata": {},
   "source": [
    "### Target:\n",
    "\n",
    "* Get the initial set up - training, testing, basic structure of the code, data loader etc.\n",
    "* Keep the parameters as low as possible (~8000) to stay below the parameter limit for this assignment and see the initial training and test accuracy \n",
    "\n",
    "### Results:\n",
    "* Parameters: 8204\n",
    "* Best Training Accuracy: 60%\n",
    "* Best Test Accuracy: 59.37%\n",
    "\n",
    "### Analysis:\n",
    "* Extremely bad accuracy\n",
    "* Both train and test accracy are much below the target mark. Ways to improve it includes\n",
    "    - Batch normalisation\n",
    "    - Add GAP instead of 5x5 kernal\n",
    "* Training accuracy is consistently more than the test accuracy - although not a lot, there are slight signs of over fitting. Test accuracy can be improved with respect to training accuracy by \n",
    "    - transforming training data\n",
    "    - adding dropout layers\n",
    "\n"
   ]
  },
  {
   "cell_type": "code",
   "execution_count": null,
   "id": "b1711847",
   "metadata": {},
   "outputs": [],
   "source": []
  }
 ],
 "metadata": {
  "kernelspec": {
   "display_name": "Python 3 (ipykernel)",
   "language": "python",
   "name": "python3"
  },
  "language_info": {
   "codemirror_mode": {
    "name": "ipython",
    "version": 3
   },
   "file_extension": ".py",
   "mimetype": "text/x-python",
   "name": "python",
   "nbconvert_exporter": "python",
   "pygments_lexer": "ipython3",
   "version": "3.9.13"
  }
 },
 "nbformat": 4,
 "nbformat_minor": 5
}
