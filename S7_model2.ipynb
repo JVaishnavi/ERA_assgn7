{
 "cells": [
  {
   "cell_type": "markdown",
   "id": "0d2c4cab",
   "metadata": {},
   "source": [
    "## Importing Libraries"
   ]
  },
  {
   "cell_type": "code",
   "execution_count": 1,
   "id": "a154fc17",
   "metadata": {},
   "outputs": [],
   "source": [
    "import torch\n",
    "import torch.optim as optim\n",
    "from torchvision import datasets, transforms"
   ]
  },
  {
   "cell_type": "code",
   "execution_count": 2,
   "id": "ae68fcc3",
   "metadata": {},
   "outputs": [],
   "source": [
    "from utils import *\n",
    "from model_2 import *"
   ]
  },
  {
   "cell_type": "markdown",
   "id": "f4e03133",
   "metadata": {},
   "source": [
    "## Transformations applied on train and test data"
   ]
  },
  {
   "cell_type": "code",
   "execution_count": 3,
   "id": "e6ea516f",
   "metadata": {},
   "outputs": [],
   "source": [
    "# Train Phase transformations\n",
    "train_transforms = transforms.Compose([\n",
    "                                       transforms.RandomApply([transforms.CenterCrop(22), ], p=0.1),\n",
    "                                       transforms.RandomRotation((-15., 15.), fill=0),\n",
    "                                       transforms.Resize((28, 28)),\n",
    "                                       transforms.ColorJitter(brightness=0.10, contrast=0.1, saturation=0.10, hue=0.1),\n",
    "                                       transforms.ToTensor(),\n",
    "                                       transforms.Normalize((0.1307,), (0.3081,))\n",
    "                                       ])\n",
    "\n",
    "# Test Phase transformations\n",
    "test_transforms = transforms.Compose([transforms.ToTensor(),\n",
    "                                      transforms.Normalize((0.1307,), (0.3081,))\n",
    "                                       ])"
   ]
  },
  {
   "cell_type": "markdown",
   "id": "697d414d",
   "metadata": {},
   "source": [
    "## Downloading data"
   ]
  },
  {
   "cell_type": "code",
   "execution_count": 4,
   "id": "62113768",
   "metadata": {},
   "outputs": [],
   "source": [
    "train_data = datasets.MNIST('../data', train=True, download=True, transform=train_transforms)\n",
    "test_data = datasets.MNIST('../data', train=False, download=True, transform=test_transforms)"
   ]
  },
  {
   "cell_type": "code",
   "execution_count": 5,
   "id": "5acd70f7",
   "metadata": {},
   "outputs": [],
   "source": [
    "batch_size = 128\n",
    "\n",
    "kwargs = {'batch_size': batch_size, 'shuffle': True, 'num_workers': 2, 'pin_memory': True}\n",
    "\n",
    "train_loader = torch.utils.data.DataLoader(train_data, **kwargs)\n",
    "test_loader = torch.utils.data.DataLoader(test_data, **kwargs)"
   ]
  },
  {
   "cell_type": "markdown",
   "id": "6e8a49d4",
   "metadata": {},
   "source": [
    "## Sample image"
   ]
  },
  {
   "cell_type": "code",
   "execution_count": 6,
   "id": "fd495cb4",
   "metadata": {},
   "outputs": [
    {
     "data": {
      "image/png": "[encoded data removed]",
      "text/plain": [
       "<Figure size 640x480 with 12 Axes>"
      ]
     },
     "metadata": {},
     "output_type": "display_data"
    }
   ],
   "source": [
    "\n",
    "batch_data, batch_label = next(iter(train_loader)) \n",
    "\n",
    "fig = plt.figure()\n",
    "\n",
    "for i in range(12):\n",
    "  plt.subplot(3,4,i+1)\n",
    "  plt.tight_layout()\n",
    "  plt.imshow(batch_data[i].squeeze(0), cmap='gray')\n",
    "  plt.title(batch_label[i].item())\n",
    "  plt.xticks([])\n",
    "  plt.yticks([])"
   ]
  },
  {
   "cell_type": "markdown",
   "id": "8d55a501",
   "metadata": {},
   "source": [
    "## Neural net summary"
   ]
  },
  {
   "cell_type": "code",
   "execution_count": 7,
   "id": "d3f9f494",
   "metadata": {},
   "outputs": [
    {
     "name": "stdout",
     "output_type": "stream",
     "text": [
      "----------------------------------------------------------------\n",
      "        Layer (type)               Output Shape         Param #\n",
      "================================================================\n",
      "            Conv2d-1           [-1, 16, 26, 26]             144\n",
      "              ReLU-2           [-1, 16, 26, 26]               0\n",
      "       BatchNorm2d-3           [-1, 16, 26, 26]              32\n",
      "           Dropout-4           [-1, 16, 26, 26]               0\n",
      "            Conv2d-5           [-1, 32, 24, 24]           4,608\n",
      "              ReLU-6           [-1, 32, 24, 24]               0\n",
      "       BatchNorm2d-7           [-1, 32, 24, 24]              64\n",
      "           Dropout-8           [-1, 32, 24, 24]               0\n",
      "         MaxPool2d-9           [-1, 32, 12, 12]               0\n",
      "           Conv2d-10           [-1, 10, 12, 12]             320\n",
      "           Conv2d-11           [-1, 16, 10, 10]           1,440\n",
      "             ReLU-12           [-1, 16, 10, 10]               0\n",
      "      BatchNorm2d-13           [-1, 16, 10, 10]              32\n",
      "          Dropout-14           [-1, 16, 10, 10]               0\n",
      "           Conv2d-15             [-1, 16, 8, 8]           2,304\n",
      "             ReLU-16             [-1, 16, 8, 8]               0\n",
      "      BatchNorm2d-17             [-1, 16, 8, 8]              32\n",
      "          Dropout-18             [-1, 16, 8, 8]               0\n",
      "           Conv2d-19             [-1, 32, 6, 6]           4,608\n",
      "             ReLU-20             [-1, 32, 6, 6]               0\n",
      "      BatchNorm2d-21             [-1, 32, 6, 6]              64\n",
      "          Dropout-22             [-1, 32, 6, 6]               0\n",
      "        AvgPool2d-23             [-1, 32, 1, 1]               0\n",
      "           Conv2d-24             [-1, 10, 1, 1]             320\n",
      "================================================================\n",
      "Total params: 13,968\n",
      "Trainable params: 13,968\n",
      "Non-trainable params: 0\n",
      "----------------------------------------------------------------\n",
      "Input size (MB): 0.00\n",
      "Forward/backward pass size (MB): 1.05\n",
      "Params size (MB): 0.05\n",
      "Estimated Total Size (MB): 1.11\n",
      "----------------------------------------------------------------\n"
     ]
    },
    {
     "data": {
      "text/plain": [
       "<function torchsummary.torchsummary.summary(model, input_size, batch_size=-1, device='cuda')>"
      ]
     },
     "execution_count": 7,
     "metadata": {},
     "output_type": "execute_result"
    }
   ],
   "source": [
    "get_summary(Net)"
   ]
  },
  {
   "cell_type": "markdown",
   "id": "2ef66e81",
   "metadata": {},
   "source": [
    "## Training the data and calculating validation results"
   ]
  },
  {
   "cell_type": "code",
   "execution_count": 8,
   "id": "ce0236a6",
   "metadata": {},
   "outputs": [],
   "source": [
    "train_losses = []\n",
    "test_losses = []\n",
    "train_acc = []\n",
    "test_acc = []\n",
    "\n",
    "test_incorrect_pred = {'images': [], 'ground_truths': [], 'predicted_vals': []}"
   ]
  },
  {
   "cell_type": "code",
   "execution_count": 9,
   "id": "83b44101",
   "metadata": {
    "scrolled": false
   },
   "outputs": [
    {
     "name": "stdout",
     "output_type": "stream",
     "text": [
      "Epoch 1\n"
     ]
    },
    {
     "name": "stderr",
     "output_type": "stream",
     "text": [
      "Train: Loss=0.1566 Batch_id=468 Accuracy=86.82: 100%|█| 469/469 [01:03<00:00,  7"
     ]
    },
    {
     "name": "stdout",
     "output_type": "stream",
     "text": [
      "86.81833333333333\n"
     ]
    },
    {
     "name": "stderr",
     "output_type": "stream",
     "text": [
      "\n"
     ]
    },
    {
     "name": "stdout",
     "output_type": "stream",
     "text": [
      "Test set: Average loss: 0.0784, Accuracy: 9794/10000 (97.94%)\n",
      "\n",
      "Epoch 2\n"
     ]
    },
    {
     "name": "stderr",
     "output_type": "stream",
     "text": [
      "Train: Loss=0.0396 Batch_id=468 Accuracy=96.79: 100%|█| 469/469 [01:04<00:00,  7"
     ]
    },
    {
     "name": "stdout",
     "output_type": "stream",
     "text": [
      "96.79\n"
     ]
    },
    {
     "name": "stderr",
     "output_type": "stream",
     "text": [
      "\n"
     ]
    },
    {
     "name": "stdout",
     "output_type": "stream",
     "text": [
      "Test set: Average loss: 0.0494, Accuracy: 9871/10000 (98.71%)\n",
      "\n",
      "Epoch 3\n"
     ]
    },
    {
     "name": "stderr",
     "output_type": "stream",
     "text": [
      "Train: Loss=0.0513 Batch_id=468 Accuracy=97.53: 100%|█| 469/469 [01:04<00:00,  7"
     ]
    },
    {
     "name": "stdout",
     "output_type": "stream",
     "text": [
      "97.52666666666667\n"
     ]
    },
    {
     "name": "stderr",
     "output_type": "stream",
     "text": [
      "\n"
     ]
    },
    {
     "name": "stdout",
     "output_type": "stream",
     "text": [
      "Test set: Average loss: 0.0343, Accuracy: 9895/10000 (98.95%)\n",
      "\n",
      "Epoch 4\n"
     ]
    },
    {
     "name": "stderr",
     "output_type": "stream",
     "text": [
      "Train: Loss=0.0379 Batch_id=468 Accuracy=97.88: 100%|█| 469/469 [01:06<00:00,  7"
     ]
    },
    {
     "name": "stdout",
     "output_type": "stream",
     "text": [
      "97.88333333333334\n"
     ]
    },
    {
     "name": "stderr",
     "output_type": "stream",
     "text": [
      "\n"
     ]
    },
    {
     "name": "stdout",
     "output_type": "stream",
     "text": [
      "Test set: Average loss: 0.0286, Accuracy: 9915/10000 (99.15%)\n",
      "\n",
      "Epoch 5\n"
     ]
    },
    {
     "name": "stderr",
     "output_type": "stream",
     "text": [
      "Train: Loss=0.0179 Batch_id=468 Accuracy=98.12: 100%|█| 469/469 [01:04<00:00,  7"
     ]
    },
    {
     "name": "stdout",
     "output_type": "stream",
     "text": [
      "98.125\n"
     ]
    },
    {
     "name": "stderr",
     "output_type": "stream",
     "text": [
      "\n"
     ]
    },
    {
     "name": "stdout",
     "output_type": "stream",
     "text": [
      "Test set: Average loss: 0.0280, Accuracy: 9910/10000 (99.10%)\n",
      "\n",
      "Epoch 6\n"
     ]
    },
    {
     "name": "stderr",
     "output_type": "stream",
     "text": [
      "Train: Loss=0.0657 Batch_id=468 Accuracy=98.17: 100%|█| 469/469 [00:40<00:00, 11"
     ]
    },
    {
     "name": "stdout",
     "output_type": "stream",
     "text": [
      "98.17\n"
     ]
    },
    {
     "name": "stderr",
     "output_type": "stream",
     "text": [
      "\n"
     ]
    },
    {
     "name": "stdout",
     "output_type": "stream",
     "text": [
      "Test set: Average loss: 0.0244, Accuracy: 9917/10000 (99.17%)\n",
      "\n",
      "Epoch 7\n"
     ]
    },
    {
     "name": "stderr",
     "output_type": "stream",
     "text": [
      "Train: Loss=0.0797 Batch_id=468 Accuracy=98.40: 100%|█| 469/469 [01:06<00:00,  7"
     ]
    },
    {
     "name": "stdout",
     "output_type": "stream",
     "text": [
      "98.40166666666667\n"
     ]
    },
    {
     "name": "stderr",
     "output_type": "stream",
     "text": [
      "\n"
     ]
    },
    {
     "name": "stdout",
     "output_type": "stream",
     "text": [
      "Test set: Average loss: 0.0229, Accuracy: 9924/10000 (99.24%)\n",
      "\n",
      "Epoch 8\n"
     ]
    },
    {
     "name": "stderr",
     "output_type": "stream",
     "text": [
      "Train: Loss=0.0199 Batch_id=468 Accuracy=98.36: 100%|█| 469/469 [01:04<00:00,  7"
     ]
    },
    {
     "name": "stdout",
     "output_type": "stream",
     "text": [
      "98.36166666666666\n"
     ]
    },
    {
     "name": "stderr",
     "output_type": "stream",
     "text": [
      "\n"
     ]
    },
    {
     "name": "stdout",
     "output_type": "stream",
     "text": [
      "Test set: Average loss: 0.0226, Accuracy: 9928/10000 (99.28%)\n",
      "\n",
      "Epoch 9\n"
     ]
    },
    {
     "name": "stderr",
     "output_type": "stream",
     "text": [
      "Train: Loss=0.0557 Batch_id=468 Accuracy=98.38: 100%|█| 469/469 [01:31<00:00,  5"
     ]
    },
    {
     "name": "stdout",
     "output_type": "stream",
     "text": [
      "98.375\n"
     ]
    },
    {
     "name": "stderr",
     "output_type": "stream",
     "text": [
      "\n"
     ]
    },
    {
     "name": "stdout",
     "output_type": "stream",
     "text": [
      "Test set: Average loss: 0.0218, Accuracy: 9927/10000 (99.27%)\n",
      "\n",
      "Epoch 10\n"
     ]
    },
    {
     "name": "stderr",
     "output_type": "stream",
     "text": [
      "Train: Loss=0.0250 Batch_id=468 Accuracy=98.61: 100%|█| 469/469 [01:30<00:00,  5"
     ]
    },
    {
     "name": "stdout",
     "output_type": "stream",
     "text": [
      "98.61\n"
     ]
    },
    {
     "name": "stderr",
     "output_type": "stream",
     "text": [
      "\n"
     ]
    },
    {
     "name": "stdout",
     "output_type": "stream",
     "text": [
      "Test set: Average loss: 0.0237, Accuracy: 9922/10000 (99.22%)\n",
      "\n",
      "Epoch 11\n"
     ]
    },
    {
     "name": "stderr",
     "output_type": "stream",
     "text": [
      "Train: Loss=0.1694 Batch_id=468 Accuracy=98.54: 100%|█| 469/469 [01:37<00:00,  4"
     ]
    },
    {
     "name": "stdout",
     "output_type": "stream",
     "text": [
      "98.54166666666667\n"
     ]
    },
    {
     "name": "stderr",
     "output_type": "stream",
     "text": [
      "\n"
     ]
    },
    {
     "name": "stdout",
     "output_type": "stream",
     "text": [
      "Test set: Average loss: 0.0214, Accuracy: 9937/10000 (99.37%)\n",
      "\n",
      "Epoch 12\n"
     ]
    },
    {
     "name": "stderr",
     "output_type": "stream",
     "text": [
      "Train: Loss=0.0095 Batch_id=468 Accuracy=98.67: 100%|█| 469/469 [01:50<00:00,  4"
     ]
    },
    {
     "name": "stdout",
     "output_type": "stream",
     "text": [
      "98.665\n"
     ]
    },
    {
     "name": "stderr",
     "output_type": "stream",
     "text": [
      "\n"
     ]
    },
    {
     "name": "stdout",
     "output_type": "stream",
     "text": [
      "Test set: Average loss: 0.0198, Accuracy: 9939/10000 (99.39%)\n",
      "\n",
      "Epoch 13\n"
     ]
    },
    {
     "name": "stderr",
     "output_type": "stream",
     "text": [
      "Train: Loss=0.0227 Batch_id=468 Accuracy=98.64: 100%|█| 469/469 [01:53<00:00,  4"
     ]
    },
    {
     "name": "stdout",
     "output_type": "stream",
     "text": [
      "98.635\n"
     ]
    },
    {
     "name": "stderr",
     "output_type": "stream",
     "text": [
      "\n"
     ]
    },
    {
     "name": "stdout",
     "output_type": "stream",
     "text": [
      "Test set: Average loss: 0.0230, Accuracy: 9927/10000 (99.27%)\n",
      "\n",
      "Epoch 14\n"
     ]
    },
    {
     "name": "stderr",
     "output_type": "stream",
     "text": [
      "Train: Loss=0.1964 Batch_id=468 Accuracy=98.66: 100%|█| 469/469 [02:02<00:00,  3"
     ]
    },
    {
     "name": "stdout",
     "output_type": "stream",
     "text": [
      "98.655\n"
     ]
    },
    {
     "name": "stderr",
     "output_type": "stream",
     "text": [
      "\n"
     ]
    },
    {
     "name": "stdout",
     "output_type": "stream",
     "text": [
      "Test set: Average loss: 0.0184, Accuracy: 9944/10000 (99.44%)\n",
      "\n",
      "Epoch 15\n"
     ]
    },
    {
     "name": "stderr",
     "output_type": "stream",
     "text": [
      "Train: Loss=0.0294 Batch_id=468 Accuracy=98.76: 100%|█| 469/469 [02:25<00:00,  3"
     ]
    },
    {
     "name": "stdout",
     "output_type": "stream",
     "text": [
      "98.75833333333334\n"
     ]
    },
    {
     "name": "stderr",
     "output_type": "stream",
     "text": [
      "\n"
     ]
    },
    {
     "name": "stdout",
     "output_type": "stream",
     "text": [
      "Test set: Average loss: 0.0176, Accuracy: 9944/10000 (99.44%)\n",
      "\n"
     ]
    }
   ],
   "source": [
    "model = Net().to(device)\n",
    "optimizer = optim.SGD(model.parameters(), lr=0.01, momentum=0.9)\n",
    "train_criterion = nn.CrossEntropyLoss() #Loss function\n",
    "test_criterion = nn.CrossEntropyLoss() #Loss function\n",
    "num_epochs = 15\n",
    "\n",
    "for epoch in range(1, num_epochs+1):\n",
    "    print(f'Epoch {epoch}')\n",
    "    train_acc_val, train_loss = train(model, device, train_loader, optimizer, train_criterion)\n",
    "    print(train_acc_val)\n",
    "    test_acc_val, test_loss = test(model, device, test_loader, test_criterion)\n",
    "    \n",
    "    train_acc.append(train_acc_val) #Storing training loss for each epoch\n",
    "    train_losses.append(train_loss)\n",
    "    test_acc.append(test_acc_val) #Storing testing loss for each epoch\n",
    "    test_losses.append(test_loss)\n"
   ]
  },
  {
   "cell_type": "markdown",
   "id": "d7b5f6da",
   "metadata": {},
   "source": [
    "## Plots"
   ]
  },
  {
   "cell_type": "code",
   "execution_count": 10,
   "id": "1daf3226",
   "metadata": {},
   "outputs": [
    {
     "data": {
      "image/png": "[encoded data removed]",
      "text/plain": [
       "<Figure size 1500x1000 with 4 Axes>"
      ]
     },
     "metadata": {},
     "output_type": "display_data"
    }
   ],
   "source": [
    "plot_loss(train_losses, train_acc, test_losses, test_acc)\n"
   ]
  },
  {
   "cell_type": "markdown",
   "id": "1f34cef3",
   "metadata": {},
   "source": [
    "### Target:\n",
    "\n",
    "* Change in structure\n",
    "    - Add batch normalisation\n",
    "    - Remove second max pooling. In the initial run of model 2, I had 2 max pooling layers but the accuracy was detoriating as the pooling layer was close to the output layer. Hence removed it. \n",
    "    - Add GAP\n",
    "    - Transform training data\n",
    "    - Increased the parameters slighty to reach closer to target accuracy. (Will reduce that in the next run)\n",
    "    - Added drop out layers\n",
    "\n",
    "### Results:\n",
    "* Parameters: 13968\n",
    "* Best Training Accuracy: 98.76\n",
    "* Best Test Accuracy: 99.44\n",
    "\n",
    "### Analysis:\n",
    "* Train accuracy is less than test accuracy (No over fitting) - This is due to adding train transformation and dropout layers\n",
    "* Added batch normalisation, GAP to improve the accuracy\n",
    "* Value is oscillating a lot (Learning rate issue)\n",
    "\n",
    "### To do:\n",
    "\n",
    "* Reduce the epoch to 15 for the final iterations\n",
    "* To compensate for lesser epoch, reduce the batch size\n",
    "* Accuracy fluctuating around a number. Add better learning rate formula\n",
    "* Reduce number of parameters by changing the channel and kernal size."
   ]
  },
  {
   "cell_type": "code",
   "execution_count": null,
   "id": "ebadfab7",
   "metadata": {},
   "outputs": [],
   "source": []
  }
 ],
 "metadata": {
  "kernelspec": {
   "display_name": "Python 3 (ipykernel)",
   "language": "python",
   "name": "python3"
  },
  "language_info": {
   "codemirror_mode": {
    "name": "ipython",
    "version": 3
   },
   "file_extension": ".py",
   "mimetype": "text/x-python",
   "name": "python",
   "nbconvert_exporter": "python",
   "pygments_lexer": "ipython3",
   "version": "3.9.13"
  }
 },
 "nbformat": 4,
 "nbformat_minor": 5
}
